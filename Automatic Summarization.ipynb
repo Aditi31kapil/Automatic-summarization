{
 "cells": [
  {
   "cell_type": "markdown",
   "metadata": {},
   "source": [
    "# Automatic Summarization"
   ]
  },
  {
   "cell_type": "code",
   "execution_count": 1,
   "metadata": {},
   "outputs": [
    {
     "name": "stdout",
     "output_type": "stream",
     "text": [
      "Challenge\n",
      "Nanyang Technopreneurship Centre seek to encourage more students and young adults to embark in technopreneurship through IdeasInc, an accelerator programmes, and #startathon, a technopreneurship-focused hackathon. However, the barrier for those with no technical background seemed to be very high.Insight\n",
      "Many students and young adults with no technical background feel that they would not be able to compete or contribute in technical hackathon. Therefore, they would be unlikely to join such hackathon.Solution\n",
      "We designed a hackathon to cater to those with non technical background. This is done by providing live masterclasses to teach basic making skills, around-the-clock technical consultants to help the participants, and even a mini maker-space to push those with technical skills to try making using ‘traditional’ tools such as the band saw and hammers!Result\n",
      "We have been organising #startathon for 4 years now, and have seen constant rise in first-time hackathon participation numbers, with some of #startathon alumni continuing to become an avid maker, even technopreneurs.\n",
      "Challenge: The Housing Development Board (HDB) in Singapore has been running surveys among communities to crowd-source for innovative tech-powered solutions to enhance the safety and vibrancy of the HDB estate. However, the development and implementation of these ideas has shown itself to be a challenge, as the hackathon format lends itself to weekend innovators who typically have no intention of carrying forward their project. Insight: HDB would benefit from having an open innovation process that not only brings together a focused group of capable and committed innovators, but also enables them with appropriate prototyping resources to create high resolution Minimum Viable Products (MVPs) that could be tested rapidly with the public. Current hackathon formats and standard challenges usually do not have processes in place to incentivise participants or equip them with the resources to transform their ideas into a working prototypes, leading to a lack of tangible output at the end of the process. Additionally, ideas are also not typically put through testing at this stage leading to a lots of product-market fit issues. This is a gap we decided to fill.In the first stage, we held an open call for ideas. In the the second stage, the teams with the most promising ideas were given a chance to create and test their ideas within a time frame of up to 3 months. The programme was designed with a Design Thinking approach to help participants create user centered solutions. To enable participants to empathize with HDB residents, a community mapping exercise was conducted in several public housing estates. Workshops were also conducted for participants in the areas of lean project management, rapid prototyping and performing user testing.Participants were also supported in the 3 month development phase by mentors who had expertise in Internet of Things (IoT), Gamification methods and Geo-Spatial Mapping. Testing sessions were held for the participants to get direct user feedback, before they entered their iteration process to refine their product. We also brought in technology partners such as Microsoft and IBM to up-skill participants on their respective cloud platforms (Azure & Bluemix).Finally, a pitching session was held for participants could pitch their high-resolution and tested solutions to HDB’s external partners who had commercial interest and/or access to follow-on funding. The entire process ensured that the participants were given all the support they needed to fully realize their ideas in a tangible form.Result: The entire open innovation process produced stunning results. Participants proved their potential and showed success in using their technology skills to add value to the community. The resulting projects included an IoT-powered community gardening platform, Visualization of to-be-built HDB flats using Augmented Reality, and a mobile application to encourage the vibrancy of the neighbourhood. Out of all participating teams, 6 entered the final stage and from them, 4 groups were ‘adopted’ by external partners of HDB and given follow-on funding for their projects.\n",
      "The consequences of the driving forces that are shaping the Future of Work will be far-reaching and fundamentally transform the nature of work, the definition of workers and the concept of workplaces.The two main driving forces of technological change (integration of Artificial Intelligence & Automation into work tasks) and the rise of long term contingent workers will undoubtedly create new opportunities for some, but for many, they represent the fear of a unsustainable and uncertain future. This topic is of deep interest to us and our partners as it strikes at the heart of multiple Sustainable Development Goals (SDGs) centered around poverty alleviation, economic inclusion, and the development of sustainable communities. Listed below is a snapshot of the work we have done with private companies, public sector organizations and trade associations.Challenge: To transform bank employees into a future-ready workforce.Solution : A 1 x Day Futures Thinking workshop was conducted for the combined HR department. Participants were equipped to embrace a futures mindset and introduced to methods to anticipate, prepare and take advantage of disruption in the Future of Work. Among the methods covered were STEEP analysis to scan for emerging trends and Causal Layered Analysis to deepen their understanding of specific driving forces. Success: Participants of the workshop left with a toolkit of Futures Thinking methods that enabled them to test the relevance of their current HR strategies and develop new HR strategies that would thrive in the Future of Work.Challenge: Junior Chamber International (JCI) is a nonprofit organization of young active citizens aged 18 to 40 who meet in regional, national and international conferences to work towards their current mission which is to provide development opportunities that empower young people to create positive change. With Indonesia having one of the largest youth populations in the world, JCI’s Indonesian members wanted their members to be ready for the Future of Work.\n",
      "Solution : A 3 hour introductory Futures Thinking workshop was conducted in a conference format for JCI members. Given the large number of participants, collaborative hands-on exercises were conducted to crowd-source important STEEPV (social, technological, economic, environmental, political, values) driving forces. The session rounded off with a Futures Triangle exercise to explore the space of plausible futures. Success: Participants of the workshop left with exposure to a completely new way of anticipating change. The projects within JCI (Medan) began to be more long-term in nature and revolved less within the 1 year time frame of each leadership cycle.\n",
      "Challenge\n",
      "RAITONG Organics Farm in Thailand was suffering from possible theft of their goods. Several boxes of organic rice was found missing during transport delivery from the farm in the North-Eastern Thailand to the shipping port at Bangkok. Insight\n",
      "It was required to find out exactly where and when the rice were lost to get transparency and accountability from the responsible party.    Solution\n",
      "An Internet of Things (IoT) system to track the location of the truck and the rice boxes within it. A simple-to-deploy tripwire system was installed on strategic location, which will trigger a message to be sent when truck stopped moving for a set amount of time, and when the tripwire was set off. The full solution can be viewed at Hackster.ioResult\n",
      "The prototype gives occasional false-positive results. Development of the second version is ongoing. Meanwhile,  RAITONG Organics Farm is able to track the truck and hold their transport providers accountable. \n",
      "Challenge\n",
      "As part of the UN’s Mondialogo Challenge, our team analysed the problem of farmers suicide in India. Insight\n",
      "Oversupply  was causing a drop in price and therefore income of the local farmers. They were unable to sell their excess crops, and had to leave them to waste. Solution\n",
      "We developed a solar dryer suitable for the local climate, and supported the local economy by establishing connection between the local farmers and the potential buyers for dried goods.Result\n",
      "After establishing the initial market for the farmers, we worked with a local company to craft a sustainable business model for the solar dryer. \n",
      "Challenge\n",
      "A*STAR has just developed several IoT hardwares and APIs, and it was looking for potential usage of these technologies.Insight\n",
      "A*STAR would benefit from having a small group of highly skilled innovators working on the organisation’s areas of interests, as the learning curve to pick up new technology is rather high.Solution\n",
      "We designed a two-pronged open innovation programme; one was for a selected group of innovators to ideate and prototype products using the new technology. Another one was to involve our in-house experts to produce and deploy prototypes throughout SingaporeResult\n",
      "Hackathon participants managed to produce more than 5 possible applications for A*STAR, and our in-house team successfully deployed more than 100 IoT sensors throughout Singapore to support A*STAR product development process.\n",
      "Challenge: Nippon Closures Co. Ltd (NCC), a leading Japanese packaging company that manufactures and sells metal and plastic closures, wanted to innovate and develop new business propositions as part of their market expansion activities in South-East Asia. There was a desire for their upcoming innovations in closures to address societal needs, such as closures that are easier for senior citizens to open – a response to the aging population in Japan and other developed societies.Insight: A design thinking process would be very useful to create products if we were solely focusing on the needs of the elderly. However, NCC’s consumer grade products had the potential to be used by all types of users, including those with disabilities. We felt that adopting universal design principles would increase the scale of users that NCC could impact – in line with SDG 10 (Reduced Inequalities). However Universal Design is not a popularly known concept and further more, many designers would not have had significant interactions with persons of disabilities.Additionally, it was realized that designers, while talented, were unlikely to be aware about NCC’s machine specifications. After all, any new design must be producible by NCC in order to see the light of day. Our solution, had to take all of these requirements into account.We decided to hold an open challenge in Singapore to design for the general public with the incorporation of inclusive design principles to accommodate both the elderly and persons with disabilities. In the first part of the process, over 30 designs were submitted online by interested design teams. These were whittled down to 11 designs through several rounds of evaluation on technical feasibility, financial viability and customer desirability aspects.The participants, mainly designers, enjoyed the intense design and technical mentorship provided by the product development engineers of NCC to redesign the bottle caps over a two-month period. We brought in expert speakers to conduct workshops on Universal Design and Design for Manufacturing for participants. The mentoring process as well as the workshops not only benefited participants but also members of NCC’s own product design team who were exposed to open innovation methods for the first time.For practicality of design, we also had participants work closely with target users to provide timely feedback. We also partnered veteran designers, potential customers of NCC as well as members of the disability community to attend the product development process as mentors and judges. The finale and exhibition was held at the National Design Centre with several dignitaries and clients of NCC in attendance.Result: 11 prototypes were created and 5 were selected for further testing, refinement and Intellectual Property (IP) registration. NCC successfully aligned themselves to the missions of several NGOS and design companies interested in universal design, which puts them in good stead to accelerate their business development in Southeast Asia. The parent company of NCC has also been inspired by the open innovation process to setup a product design innovation lab in Singapore in early 2018. The redesigned packaging is expected to be launched at the 2020 Summer Paralympics held in Japan.\n",
      "\n"
     ]
    }
   ],
   "source": [
    "filepath='./sl2.txt'\n",
    "corpus=open(filepath,'r',errors = 'ignore')\n",
    "raw_data=corpus.read()\n",
    "print (raw_data)"
   ]
  },
  {
   "cell_type": "markdown",
   "metadata": {},
   "source": [
    "# Processing model"
   ]
  },
  {
   "cell_type": "code",
   "execution_count": 2,
   "metadata": {},
   "outputs": [],
   "source": [
    "from nltk.corpus import stopwords\n",
    "from nltk.cluster.util import cosine_distance\n",
    "import numpy as np\n",
    "import networkx as nx\n",
    "import bs4 as bs\n",
    "import urllib.request\n",
    "import re\n",
    "import nltk\n",
    "\n",
    "if \n",
    " \n",
    "def read_article(file_name):\n",
    "    sentences = []\n",
    "    file = open(file_name, 'r') \n",
    "    f_data = file.readlines()\n",
    "    f_data = [x for x in f_data if x != '\\n'] # it should remove any break present\n",
    "    f_data = [x.replace('\\n',' ') for x in f_data] #this would remove that end of line\n",
    "    f_data = ''.join(f_data) \n",
    "    article = f_data.split('. ') \n",
    "    for sentence in article:\n",
    "        sentences.append(sentence.replace(\"^[a-zA-Z0-9!@#$&()-`+,/\\\"]\", \" \").split(\" \"))\n",
    "    return sentences\n",
    "\n",
    "def sentence_similarity(sent1, sent2, stopwords=None):\n",
    "    if stopwords is None:\n",
    "        stopwords = []\n",
    " \n",
    "    sent1 = [w.lower() for w in sent1]\n",
    "    sent2 = [w.lower() for w in sent2]\n",
    " \n",
    "    all_words = list(set(sent1 + sent2))\n",
    " \n",
    "    vector1 = [0] * len(all_words)\n",
    "    vector2 = [0] * len(all_words)\n",
    " \n",
    "    # build the vector for the first sentence\n",
    "    for w in sent1:\n",
    "        if w in stopwords:\n",
    "            continue\n",
    "        vector1[all_words.index(w)] += 1\n",
    " \n",
    "    # build the vector for the second sentence\n",
    "    for w in sent2:\n",
    "        if w in stopwords:\n",
    "            continue\n",
    "        vector2[all_words.index(w)] += 1\n",
    " \n",
    "    return 1 - cosine_distance(vector1, vector2)\n",
    " \n",
    "def build_similarity_matrix(sentences, stop_words):\n",
    "    # Create an empty similarity matrix\n",
    "    similarity_matrix = np.zeros((len(sentences), len(sentences)))\n",
    " \n",
    "    for idx1 in range(len(sentences)):\n",
    "        for idx2 in range(len(sentences)):\n",
    "            if idx1 == idx2: #ignore if both are same sentences\n",
    "                continue \n",
    "            similarity_matrix[idx1][idx2] = sentence_similarity(sentences[idx1], sentences[idx2], stop_words)\n",
    "\n",
    "    return similarity_matrix\n",
    "\n",
    "\n",
    "def generate_summary(file_name, top_n=5):\n",
    "    stop_words = stopwords.words('english')\n",
    "    summarize_text = []\n",
    "\n",
    "    # Step 1 - Read text anc split it\n",
    "    sentences =  read_article(file_name)\n",
    "\n",
    "    # Step 2 - Generate Similary Martix across sentences\n",
    "    sentence_similarity_martix = build_similarity_matrix(sentences, stop_words)\n",
    "\n",
    "    # Step 3 - Rank sentences in similarity martix\n",
    "    sentence_similarity_graph = nx.from_numpy_array(sentence_similarity_martix)\n",
    "    scores = nx.pagerank(sentence_similarity_graph)\n",
    "\n",
    "    # Step 4 - Sort the rank and pick top sentences\n",
    "    ranked_sentence = sorted(((scores[i],s) for i,s in enumerate(sentences)), reverse=True)    \n",
    "   \n",
    "    for i in range(top_n):\n",
    "        summarize_text.append(\" \".join(ranked_sentence[i][1]))\n",
    "\n",
    "    # Step 5 - Offcourse, output the summarize texr\n",
    "    print(\"Summarize Text: \\n\", \". \".join(summarize_text))\n"
   ]
  },
  {
   "cell_type": "markdown",
   "metadata": {},
   "source": [
    "# Testing model"
   ]
  },
  {
   "cell_type": "code",
   "execution_count": 3,
   "metadata": {},
   "outputs": [
    {
     "name": "stdout",
     "output_type": "stream",
     "text": [
      "Summarize Text: \n",
      " The mentoring process as well as the workshops not only benefited participants but also members of NCC’s own product design team who were exposed to open innovation methods for the first time.For practicality of design, we also had participants work closely with target users to provide timely feedback. The parent company of NCC has also been inspired by the open innovation process to setup a product design innovation lab in Singapore in early 2018. We brought in expert speakers to conduct workshops on Universal Design and Design for Manufacturing for participants. The programme was designed with a Design Thinking approach to help participants create user centered solutions. We also partnered veteran designers, potential customers of NCC as well as members of the disability community to attend the product development process as mentors and judges\n"
     ]
    }
   ],
   "source": [
    "# let's begin\n",
    "generate_summary( \"sl2.txt\.")"
   ]
  },
  {
   "cell_type": "markdown",
   "metadata": {},
   "source": [
    "# Evaluation"
   ]
  },
  {
   "cell_type": "code",
   "execution_count": null,
   "metadata": {},
   "outputs": [],
   "source": []
  }
 ],
 "metadata": {
  "kernelspec": {
   "display_name": "Python 3 (ipykernel)",
   "language": "python",
   "name": "python3"
  },
  "language_info": {
   "codemirror_mode": {
    "name": "ipython",
    "version": 3
   },
   "file_extension": ".py",
   "mimetype": "text/x-python",
   "name": "python",
   "nbconvert_exporter": "python",
   "pygments_lexer": "ipython3",
   "version": "3.11.5"
  }
 },
 "nbformat": 4,
 "nbformat_minor": 4
}
